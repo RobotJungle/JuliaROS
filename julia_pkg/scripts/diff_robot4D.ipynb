{
 "cells": [
  {
   "cell_type": "code",
   "execution_count": 1,
   "metadata": {},
   "outputs": [
    {
     "name": "stderr",
     "output_type": "stream",
     "text": [
      "\u001b[32m\u001b[1m  Activating\u001b[22m\u001b[39m environment at `~/Desktop/PHD/MultiAgentOptimization/julia_bots_ws/Project.toml`\n",
      "\u001b[32m\u001b[1mPrecompiling\u001b[22m\u001b[39m project...\n",
      "\u001b[33m  ✓ \u001b[39m\u001b[90mParsers\u001b[39m\n",
      "\u001b[33m  ✓ \u001b[39m\u001b[90mJSON\u001b[39m\n",
      "\u001b[33m  ✓ \u001b[39m\u001b[90mConda\u001b[39m\n",
      "\u001b[32m  ✓ \u001b[39mPyCall\n",
      "\u001b[32m  ✓ \u001b[39mRobotOS\n",
      "  5 dependencies successfully precompiled in 12 seconds (9 already precompiled)\n",
      "  \u001b[33m3\u001b[39m dependencies precompiled but different versions are currently loaded. Restart julia to access the new versions\n"
     ]
    }
   ],
   "source": [
    "import Pkg; Pkg.activate(joinpath(@__DIR__,\"../../../..\")); Pkg.instantiate()"
   ]
  },
  {
   "cell_type": "code",
   "execution_count": 2,
   "metadata": {},
   "outputs": [
    {
     "name": "stderr",
     "output_type": "stream",
     "text": [
      "┌ Info: Precompiling RobotOS [22415677-39a4-5241-a37a-00beabbbdae8]\n",
      "└ @ Base loading.jl:1342\n"
     ]
    }
   ],
   "source": [
    "#!/usr/bin/env julia167\n",
    "#!/usr/bin/python\n",
    "# Change to 'julia' instead of 'julia167' if you don't have a symlink setup\n",
    "\n",
    "using RobotOS\n",
    "using iLQGameSolver\n",
    "using SparseArrays\n",
    "using LinearAlgebra\n",
    "using StaticArrays\n",
    "\n",
    "\n",
    "@rosimport geometry_msgs.msg: Twist, Pose\n",
    "@rosimport nav_msgs.msg.Odometry\n",
    "rostypegen()\n",
    "using .geometry_msgs.msg: Twist, Pose\n",
    "using .nav_msgs.msg: Odometry"
   ]
  },
  {
   "cell_type": "code",
   "execution_count": 3,
   "metadata": {},
   "outputs": [
    {
     "name": "stdout",
     "output_type": "stream",
     "text": [
      "600\n"
     ]
    }
   ],
   "source": [
    "# Setup the problem\n",
    "\n",
    "dt = 0.1                    # Step size [s]\n",
    "tf = 60.0                    # Horizon [s]\n",
    "N = Int(tf/dt)         # Number of steps (knot points)\n",
    "println(N)\n",
    "\n",
    "# Define cost matrices \n",
    "nx = 4\n",
    "nu = 2\n",
    "Nplayer = 2\n",
    "\n",
    "Nu = nu * Nplayer\n",
    "Nx = nx * Nplayer\n",
    "\n",
    "Q1 = sparse(zeros(Nx,Nx))     # State cost for agent 1\n",
    "Q1[1:nx,1:nx] .= 2.0*I(nx)\n",
    "Qn1 = 5.0*Q1                    # Terminal cost for agent 1\n",
    "\n",
    "Q2 = sparse(zeros(Nx,Nx))     # State cost for agent 2\n",
    "Q2[nx+1:2*nx,nx+1:2*nx] .= 2.0*I(nx)\n",
    "Qn2 = 5.0*Q2                    # Terminal cost for agent 2\n",
    "\n",
    "# Q3 = sparse(zeros(Nx,Nx))     # State cost for agent 2\n",
    "# Q3[2*nx+1:3*nx,2*nx+1:3*nx] .= 3.0*I(nx)\n",
    "# Qn3 = Q3                    # Terminal cost for agent 2\n",
    "\n",
    "R11 = sparse(5.0*I(nu))              # Control cost for player 1\n",
    "R12 = sparse(0.0*I(nu))     # Control cost for player 1 associated with player 2's controls\n",
    "# R13 = sparse(0.0*I(2))     # Control cost for player 2 associated with player 1's controls\n",
    "R21 = sparse(0.0*I(nu))     # Control cost for player 2 associated with player 1's controls\n",
    "R22 = sparse(5.0*I(nu))              # Contorl cost for player 2\n",
    "# R23 = sparse(0.0*I(2))     # Control cost for player 2 associated with player 1's controls\n",
    "# R31 = sparse(0.0*I(2))     # Control cost for player 2 associated with player 1's controls\n",
    "# R32 = sparse(0.0*I(2))     # Control cost for player 2 associated with player 1's controls\n",
    "# R33 = sparse(1.0*I(2))     # Control cost for player 2 associated with player 1's controls\n",
    "\n",
    "dmax = 0.4                  # Distance that both agents should keep between each other [m]\n",
    "ρ = 100.0                   # Penalty factor for violating the distance constraint\n",
    "\n",
    "# Q's are stacked vertically\n",
    "Q = sparse(zeros(Float32, Nx*Nplayer, Nx))\n",
    "# @show size([Q1; Q2; Q3]), size(Q)\n",
    "Q .= [Q1; Q2]\n",
    "#Q .= [Q1; Q2; Q3]\n",
    "\n",
    "# Qn's are stacked vertically\n",
    "Qn = sparse(zeros(Float32, Nx*Nplayer, Nx))\n",
    "Qn .= [Qn1; Qn2]\n",
    "#Qn .= [Qn1; Qn2; Qn3]\n",
    "\n",
    "# R's are stacked as a matrix\n",
    "R = sparse(zeros(Float32, Nu, Nu))\n",
    "R .= [R11 R12; R21 R22]\n",
    "#R .= [R11 R12 R13; R21 R22 R23; R31 R32 R33]\n",
    "\n",
    "NHor = 100\n",
    "tol = 1e-2\n",
    "\n",
    "game = iLQGameSolver.GameSetup(nx, nu, Nplayer, Q, R, Qn, dt, tf, NHor, dmax, ρ, tol)\n",
    "\n",
    "solver = iLQGameSolver.iLQSetup(Nx, Nu, Nplayer, NHor);"
   ]
  },
  {
   "cell_type": "code",
   "execution_count": 4,
   "metadata": {},
   "outputs": [
    {
     "data": {
      "text/plain": [
       "nominal_trajectory (generic function with 1 method)"
      ]
     },
     "execution_count": 4,
     "metadata": {},
     "output_type": "execute_result"
    }
   ],
   "source": [
    "function nominal_trajectory(x0, xgoal, N,dt)\n",
    "    xref = [fill(NaN, length(x0)) for k = 1:N]\n",
    "    xref[1] .= x0\n",
    "    V1 = (xgoal[1:2]-x0[1:2])/((N-1)*dt)\n",
    "    V2 = (xgoal[5:6]-x0[5:6])/((N-1)*dt)\n",
    "    for k = 1:N-1\n",
    "        xref[k+1][3] = x0[3]\n",
    "        xref[k+1][4] = x0[4]\n",
    "        xref[k+1][7] = x0[7]\n",
    "        xref[k+1][8] = x0[8]\n",
    "        xref[k+1][1:2] .= (xref[k][1:2]) + dt*V1\n",
    "        xref[k+1][5:6] .= (xref[k][5:6]) + dt*V2\n",
    "    end\n",
    "\n",
    "    return SVector{8}.(xref)\n",
    "end"
   ]
  },
  {
   "cell_type": "code",
   "execution_count": 5,
   "metadata": {},
   "outputs": [],
   "source": [
    "x0 = [   2.5; 0.0; pi/2; 0.0; \n",
    "        0.0; 2.5; 0.0; 0.0]\n",
    "\n",
    "xgoal = [2.5; 5.0; pi/2; 0.0;\n",
    "        5.0; 2.5; 0.0; 0.0]   \n",
    "xref = nominal_trajectory(x0, xgoal, N, dt);"
   ]
  },
  {
   "cell_type": "code",
   "execution_count": 6,
   "metadata": {},
   "outputs": [],
   "source": [
    "umax = [0.3, 0.3, \n",
    "        0.3, 0.3]   \n",
    "\n",
    "# umin = [-2.0, -2.0, \n",
    "#         -2.0, -2.0, \n",
    "#         -2.0, -2.0]\n",
    "umin = [-2.0, -2.0, \n",
    "        -2.0, -2.0]\n",
    "\n",
    "ugoal = [   0.0, 0.0, \n",
    "            0.0, 0.0]  \n",
    "            \n",
    "solver.P .= rand(NHor, Nu, Nx)*0.01\n",
    "solver.α = rand(NHor, Nu)*0.01\n",
    "\n",
    "game.x0 .= x0\n",
    "game.xref .= xref\n",
    "game.xf .= xgoal\n",
    "game.umin .= umin\n",
    "game.umax .= umax\n",
    "game.uf .= ugoal;"
   ]
  },
  {
   "cell_type": "code",
   "execution_count": 7,
   "metadata": {},
   "outputs": [],
   "source": [
    "mutable struct BotPosition\n",
    "    x::Float32\n",
    "end"
   ]
  },
  {
   "cell_type": "code",
   "execution_count": 8,
   "metadata": {},
   "outputs": [],
   "source": [
    "mutable struct BotsState\n",
    "    x::Vector{Float32}\n",
    "end"
   ]
  },
  {
   "cell_type": "code",
   "execution_count": 9,
   "metadata": {},
   "outputs": [
    {
     "data": {
      "text/plain": [
       "4-element Vector{Float32}:\n",
       " 0.0\n",
       " 2.5\n",
       " 0.0\n",
       " 0.0"
      ]
     },
     "execution_count": 9,
     "metadata": {},
     "output_type": "execute_result"
    }
   ],
   "source": [
    "botsSt0 = BotsState(x0[1:4])\n",
    "tbot0State = botsSt0.x\n",
    "botsSt1 = BotsState(x0[5:8])\n",
    "tbot1State = botsSt1.x"
   ]
  },
  {
   "cell_type": "code",
   "execution_count": 10,
   "metadata": {},
   "outputs": [],
   "source": [
    "function tb0_callback(msg)\n",
    "    # x and y position of the robot\n",
    "    xpos = msg.pose.pose.position.x\n",
    "    ypos = msg.pose.pose.position.y\n",
    "\n",
    "    # robot velocity\n",
    "    vel = msg.twist.twist.linear.x\n",
    "\n",
    "    # Robot pose\n",
    "    qx = msg.pose.pose.orientation.x\n",
    "    qy = msg.pose.pose.orientation.y\n",
    "    qz = msg.pose.pose.orientation.z\n",
    "    qw = msg.pose.pose.orientation.w\n",
    "\n",
    "    theta = atan(2.0 * (qw * qz + qx * qy), 1.0 - 2.0 * (qy * qy + qz * qz))\n",
    "    tbot0State .= [xpos; ypos; theta; vel]\n",
    "end\n",
    "\n",
    "function tb1_callback(msg)\n",
    "    xpos = msg.pose.pose.position.x\n",
    "    ypos = msg.pose.pose.position.y\n",
    "    vel = msg.twist.twist.linear.x\n",
    "\n",
    "    qx = msg.pose.pose.orientation.x\n",
    "    qy = msg.pose.pose.orientation.y\n",
    "    qz = msg.pose.pose.orientation.z\n",
    "    qw = msg.pose.pose.orientation.w\n",
    "\n",
    "    theta = atan(2.0 * (qw * qz + qx * qy), 1.0 - 2.0 * (qy * qy + qz * qz))\n",
    "    tbot1State .= [xpos; ypos; theta; vel]\n",
    "end\n",
    "\n",
    "function commands(pub0, pub1)\n",
    "    agent1 = Twist()\n",
    "    agent2 = Twist()\n",
    "\n",
    "    solver.P = rand(NHor, Nu, Nx)*0.01\n",
    "    solver.α = rand(NHor, Nu)*0.01\n",
    "    a = 0\n",
    "\n",
    "    X = zeros(N, Nx) \n",
    "    U = zeros(N-1, Nu)\n",
    "    X[1,:] = game.x0\n",
    "    println(\"Game Setup done!\")\n",
    "    rate = Rate(10) # 10 Hz\n",
    "    NTraj = N\n",
    "    tstart = time_ns()\n",
    "    for k = 1:N-1-NHor\n",
    "        #println(tbot0State)\n",
    "        #println(\"type: \", typeof([botsSt0.x; botsSt1.x]))\n",
    "        #println(\"type: \", X[k])\n",
    "        X[k,:] .= [tbot0State; tbot1State]\n",
    "        #println(X[k,6])\n",
    "        xₜ, uₜ = iLQGameSolver.solveILQGame(game, solver, iLQGameSolver.diffDrive4D, iLQGameSolver.costPointMass, X[k,:], k, false, Int(NTraj))\n",
    "        X[k+1,:], U[k,:] = xₜ[2,:,:], uₜ[1,:,:]\n",
    "        # println(\"State: \", X[k,:])\n",
    "        # println(\"Input: \", U[k,:])\n",
    "        agent1.linear.x = X[k+1,4]#*cos(rad2deg(xₜ[i,3]))\n",
    "        agent1.linear.y = 0.0#uₜ[i,1]*sin(rad2deg(xₜ[i,3]))\n",
    "        agent1.angular.z = U[k,2]#uₜ[i,2]\n",
    "\n",
    "\n",
    "\n",
    "        agent2.linear.x = X[k+1,8]#*cos(rad2deg(xₜ[i,6]))\n",
    "        agent2.linear.y = 0.0#*sin(rad2deg(xₜ[i,6]))\n",
    "        agent2.angular.z = U[k,4]#uₜ[i,4]\n",
    "\n",
    "        NTraj = NTraj - 1\n",
    "\n",
    "        publish(pub0, agent1)\n",
    "        publish(pub1, agent2)\n",
    "        rossleep(rate)\n",
    "    end\n",
    "    println(N)\n",
    "    for k = N-NHor:N-1\n",
    "        X[k,:] .= [tbot0State; tbot1State]\n",
    "        xₜ, uₜ = iLQGameSolver.solveILQGame(game, solver, iLQGameSolver.diffDrive4D, iLQGameSolver.costPointMass, X[k,:], k, true, Int(NTraj))\n",
    "        X[k+1,:], U[k,:] = xₜ[2,:,:], uₜ[1,:,:]\n",
    "\n",
    "        agent1.linear.x = X[k+1,4]#*cos(rad2deg(xₜ[i,3]))\n",
    "        agent1.linear.y = 0.0#uₜ[i,1]*sin(rad2deg(xₜ[i,3]))\n",
    "        agent1.angular.z = U[k,2]#uₜ[i,2]\n",
    "\n",
    "\n",
    "        agent2.linear.x = X[k+1,8]#*cos(rad2deg(xₜ[i,6]))\n",
    "        agent2.linear.y = 0.0#*sin(rad2deg(xₜ[i,6]))\n",
    "        agent2.angular.z = U[k,4]#uₜ[i,4]\n",
    "\n",
    "        NTraj = NTraj - 1\n",
    "\n",
    "        publish(pub0, agent1)\n",
    "        publish(pub1, agent2)\n",
    "        rossleep(rate)\n",
    "        #println(k)\n",
    "    end\n",
    "    \n",
    "    tend = time_ns()\n",
    "    rossleep(rate)\n",
    "\n",
    "    for k = 1:10\n",
    "        X[k,:] .= [tbot0State; tbot1State]\n",
    "        #println(\"Done\")\n",
    "        agent1.linear.x = 0.0#*cos(rad2deg(xₜ[i,3]))\n",
    "        agent1.linear.y = 0.0#uₜ[i,1]*sin(rad2deg(xₜ[i,3]))\n",
    "        agent1.angular.z = 0.0#uₜ[i,2]\n",
    "\n",
    "\n",
    "        agent2.linear.x = 0.0#*cos(rad2deg(xₜ[i,6]))\n",
    "        agent2.linear.y = 0.0#*sin(rad2deg(xₜ[i,6]))\n",
    "        agent2.angular.z = 0.0#uₜ[i,4]\n",
    "\n",
    "        publish(pub0, agent1)\n",
    "        publish(pub1, agent2)\n",
    "        rossleep(rate)\n",
    "    end\n",
    "\n",
    "    rate = N / (tend - tstart) * 1e9\n",
    "    println(\"Controller ran at $rate Hz\")\n",
    "    \n",
    "    return X;\n",
    "    \n",
    "end\n",
    "\n",
    "function main()\n",
    "    init_node(\"turtlebot3_cmd\") # node name\n",
    "    pub0 = Publisher{Twist}(\"/tb3_0/cmd_vel\", queue_size=1) # topic name\n",
    "    pub1 = Publisher{Twist}(\"/tb3_1/cmd_vel\", queue_size=1) # topic name\n",
    "\n",
    "    tbb1_odom = Subscriber{Odometry}(\"/tb3_0/odom\", tb0_callback; queue_size=2)\n",
    "    tbb2_odom = Subscriber{Odometry}(\"/tb3_1/odom\", tb1_callback; queue_size=2)\n",
    "\n",
    "    X = commands(pub0, pub1)\n",
    "\n",
    "    #spin()\n",
    "    #return X\n",
    "end\n",
    "\n",
    "if !isinteractive()\n",
    "    main()\n",
    "end\n"
   ]
  },
  {
   "cell_type": "code",
   "execution_count": 11,
   "metadata": {},
   "outputs": [
    {
     "name": "stdout",
     "output_type": "stream",
     "text": [
      "Game Setup done!\n",
      "600\n",
      "Controller ran at 8.392822557888797 Hz\n"
     ]
    },
    {
     "data": {
      "text/plain": [
       "600×8 Matrix{Float64}:\n",
       " 2.51211  4.94476     1.55264  …  2.48749  -0.0780049   0.0580471\n",
       " 2.51224  4.95212     1.55297     2.48709  -0.0779271   0.0519506\n",
       " 2.5123   4.9552      1.5526      2.48669  -0.0778708   0.0520858\n",
       " 2.5123   4.9551      1.55267     2.48666  -0.0786663  -0.0413015\n",
       " 2.51229  4.95505     1.55271     2.48674  -0.0782527  -0.000307086\n",
       " 2.51229  4.95501     1.55276  …  2.48674  -0.0783556   3.64667e-6\n",
       " 2.51229  4.95496     1.5528      2.48674  -0.0784636   3.64108e-6\n",
       " 2.51229  4.95491     1.55284     2.48674  -0.0786801   3.63541e-6\n",
       " 2.51228  4.95487     1.55288     2.48675  -0.0787886   3.63445e-6\n",
       " 2.51228  4.95482     1.55293     2.48675  -0.0787886   3.63445e-6\n",
       " 2.49917  0.00687965  1.58094  …  2.50085   0.0106693   0.0199463\n",
       " 2.49915  0.00887076  1.58082     2.50085   0.0106693   0.0199463\n",
       " 2.49912  0.0116524   1.58072     2.50088   0.0105594   0.028254\n",
       " ⋮                             ⋱  ⋮                    \n",
       " 2.51053  4.84979     1.55348     2.49291  -0.0746928   0.0735666\n",
       " 2.51069  4.85935     1.55393     2.49236  -0.0744998   0.0736819\n",
       " 2.51069  4.85935     1.55393  …  2.49236  -0.0744998   0.0736819\n",
       " 2.51084  4.8685      1.55428     2.49183  -0.0741886   0.0716706\n",
       " 2.51113  4.88684     1.55477     2.49078  -0.0730721   0.0701445\n",
       " 2.51113  4.88684     1.55477     2.49078  -0.0730721   0.0701445\n",
       " 2.51141  4.90439     1.55507     2.48982  -0.0760868   0.062251\n",
       " 2.51155  4.91311     1.55515  …  2.48932  -0.0788707   0.0663312\n",
       " 2.51155  4.91311     1.55515     2.48886  -0.0784861   0.0587608\n",
       " 2.51183  4.92926     1.55205     2.48838  -0.0783323   0.0621124\n",
       " 2.51198  4.93731     1.55232     2.48794  -0.0781277   0.0553296\n",
       " 2.51212  4.94505     1.55258     2.48753  -0.0778816   0.0520037"
      ]
     },
     "execution_count": 11,
     "metadata": {},
     "output_type": "execute_result"
    }
   ],
   "source": [
    "main()"
   ]
  },
  {
   "cell_type": "code",
   "execution_count": null,
   "metadata": {},
   "outputs": [],
   "source": [
    "X"
   ]
  },
  {
   "cell_type": "code",
   "execution_count": null,
   "metadata": {},
   "outputs": [],
   "source": [
    "testX = BotsState(x0[1:3])\n",
    "tbotXtest = testX.x"
   ]
  },
  {
   "cell_type": "code",
   "execution_count": null,
   "metadata": {},
   "outputs": [],
   "source": [
    "tbotXtest"
   ]
  },
  {
   "cell_type": "code",
   "execution_count": null,
   "metadata": {},
   "outputs": [],
   "source": [
    "function changeX()\n",
    "    tbotXtest .= [1; 2; 3]\n",
    "end\n",
    "\n",
    "function showX()\n",
    "    println(tbotXtest)\n",
    "end"
   ]
  },
  {
   "cell_type": "code",
   "execution_count": null,
   "metadata": {},
   "outputs": [],
   "source": [
    "changeX()\n",
    "showX()"
   ]
  },
  {
   "cell_type": "code",
   "execution_count": null,
   "metadata": {},
   "outputs": [],
   "source": [
    "tbotXtest"
   ]
  },
  {
   "cell_type": "code",
   "execution_count": null,
   "metadata": {},
   "outputs": [],
   "source": []
  }
 ],
 "metadata": {
  "kernelspec": {
   "display_name": "Julia 1.6.7",
   "language": "julia",
   "name": "julia-1.6"
  },
  "language_info": {
   "file_extension": ".jl",
   "mimetype": "application/julia",
   "name": "julia",
   "version": "1.6.7"
  },
  "orig_nbformat": 4
 },
 "nbformat": 4,
 "nbformat_minor": 2
}
