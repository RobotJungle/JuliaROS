{
 "cells": [
  {
   "cell_type": "code",
   "execution_count": 1,
   "metadata": {},
   "outputs": [
    {
     "name": "stderr",
     "output_type": "stream",
     "text": [
      "\u001b[32m\u001b[1m  Activating\u001b[22m\u001b[39m environment at `~/Desktop/PHD/MultiAgentOptimization/julia_bots_ws/Project.toml`\n",
      "\u001b[32m\u001b[1mPrecompiling\u001b[22m\u001b[39m project...\n",
      "\u001b[33m  ✓ \u001b[39m\u001b[90mParsers\u001b[39m\n",
      "\u001b[33m  ✓ \u001b[39m\u001b[90mJSON\u001b[39m\n",
      "\u001b[33m  ✓ \u001b[39m\u001b[90mConda\u001b[39m\n",
      "\u001b[32m  ✓ \u001b[39mPyCall\n",
      "\u001b[32m  ✓ \u001b[39mRobotOS\n",
      "  5 dependencies successfully precompiled in 12 seconds (9 already precompiled)\n",
      "  \u001b[33m3\u001b[39m dependencies precompiled but different versions are currently loaded. Restart julia to access the new versions\n"
     ]
    }
   ],
   "source": [
    "import Pkg; Pkg.activate(joinpath(@__DIR__,\"../../../..\")); Pkg.instantiate()"
   ]
  },
  {
   "cell_type": "code",
   "execution_count": 2,
   "metadata": {},
   "outputs": [
    {
     "name": "stderr",
     "output_type": "stream",
     "text": [
      "┌ Info: Precompiling RobotOS [22415677-39a4-5241-a37a-00beabbbdae8]\n",
      "└ @ Base loading.jl:1342\n"
     ]
    }
   ],
   "source": [
    "#!/usr/bin/env julia167\n",
    "#!/usr/bin/python\n",
    "# Change to 'julia' instead of 'julia167' if you don't have a symlink setup\n",
    "\n",
    "using RobotOS\n",
    "using iLQGameSolver\n",
    "using SparseArrays\n",
    "using LinearAlgebra\n",
    "using StaticArrays\n",
    "\n",
    "\n",
    "@rosimport geometry_msgs.msg: Twist, Pose\n",
    "@rosimport nav_msgs.msg.Odometry\n",
    "rostypegen()\n",
    "using .geometry_msgs.msg: Twist, Pose\n",
    "using .nav_msgs.msg: Odometry"
   ]
  },
  {
   "cell_type": "code",
   "execution_count": 3,
   "metadata": {},
   "outputs": [
    {
     "name": "stdout",
     "output_type": "stream",
     "text": [
      "350\n"
     ]
    }
   ],
   "source": [
    "# Setup the problem\n",
    "\n",
    "dt = 0.1                    # Step size [s]\n",
    "tf = 35.0                    # Horizon [s]\n",
    "N = Int(tf/dt)         # Number of steps (knot points)\n",
    "println(N)\n",
    "\n",
    "# Define cost matrices \n",
    "nx = 3 \n",
    "nu = 2\n",
    "Nplayer = 2\n",
    "\n",
    "Nu = nu * Nplayer\n",
    "Nx = nx * Nplayer\n",
    "\n",
    "Q1 = sparse(zeros(Nx,Nx))     # State cost for agent 1\n",
    "Q1[1:nx,1:nx] .= 2.0*I(nx)\n",
    "Qn1 = 5.0*Q1                    # Terminal cost for agent 1\n",
    "\n",
    "Q2 = sparse(zeros(Nx,Nx))     # State cost for agent 2\n",
    "Q2[nx+1:2*nx,nx+1:2*nx] .= 2.0*I(nx)\n",
    "Qn2 = 5.0*Q2                    # Terminal cost for agent 2\n",
    "\n",
    "# Q3 = sparse(zeros(Nx,Nx))     # State cost for agent 2\n",
    "# Q3[2*nx+1:3*nx,2*nx+1:3*nx] .= 3.0*I(nx)\n",
    "# Qn3 = Q3                    # Terminal cost for agent 2\n",
    "\n",
    "R11 = sparse(5.0*I(2))              # Control cost for player 1\n",
    "R12 = sparse(0.0*I(2))     # Control cost for player 1 associated with player 2's controls\n",
    "# R13 = sparse(0.0*I(2))     # Control cost for player 2 associated with player 1's controls\n",
    "R21 = sparse(0.0*I(2))     # Control cost for player 2 associated with player 1's controls\n",
    "R22 = sparse(5.0*I(2))              # Contorl cost for player 2\n",
    "# R23 = sparse(0.0*I(2))     # Control cost for player 2 associated with player 1's controls\n",
    "# R31 = sparse(0.0*I(2))     # Control cost for player 2 associated with player 1's controls\n",
    "# R32 = sparse(0.0*I(2))     # Control cost for player 2 associated with player 1's controls\n",
    "# R33 = sparse(1.0*I(2))     # Control cost for player 2 associated with player 1's controls\n",
    "\n",
    "dmax = 0.5                  # Distance that both agents should keep between each other [m]\n",
    "ρ = 500.0                   # Penalty factor for violating the distance constraint\n",
    "\n",
    "# Q's are stacked vertically\n",
    "Q = sparse(zeros(Float32, Nx*Nplayer, Nx))\n",
    "# @show size([Q1; Q2; Q3]), size(Q)\n",
    "Q .= [Q1; Q2]\n",
    "#Q .= [Q1; Q2; Q3]\n",
    "\n",
    "# Qn's are stacked vertically\n",
    "Qn = sparse(zeros(Float32, Nx*Nplayer, Nx))\n",
    "Qn .= [Qn1; Qn2]\n",
    "#Qn .= [Qn1; Qn2; Qn3]\n",
    "\n",
    "# R's are stacked as a matrix\n",
    "R = sparse(zeros(Float32, Nu, Nu))\n",
    "R .= [R11 R12; R21 R22]\n",
    "#R .= [R11 R12 R13; R21 R22 R23; R31 R32 R33]\n",
    "\n",
    "NHor = 60\n",
    "tol = 1e-2\n",
    "\n",
    "game = iLQGameSolver.GameSetup(nx, nu, Nplayer, Q, R, Qn, dt, tf, NHor, dmax, ρ, tol)\n",
    "\n",
    "solver = iLQGameSolver.iLQSetup(Nx, Nu, Nplayer, NHor);"
   ]
  },
  {
   "cell_type": "code",
   "execution_count": 4,
   "metadata": {},
   "outputs": [
    {
     "data": {
      "text/plain": [
       "nominal_trajectory (generic function with 1 method)"
      ]
     },
     "execution_count": 4,
     "metadata": {},
     "output_type": "execute_result"
    }
   ],
   "source": [
    "function nominal_trajectory(x0, xgoal, N,dt)\n",
    "    xref = [fill(NaN, length(x0)) for k = 1:N]\n",
    "    xref[1] .= x0\n",
    "    @show x0\n",
    "    V1 = (xgoal[1:2]-x0[1:2])/((N-1)*dt)\n",
    "    V2 = (xgoal[4:5]-x0[4:5])/((N-1)*dt)\n",
    "    #Xref[1][4:5] = V\n",
    "    for k = 1:N-1\n",
    "        #xref[k+1] .= x0\n",
    "        #xref[k][4:5] .= V\n",
    "        xref[k+1][3] = x0[3]\n",
    "        xref[k+1][6] = x0[6]\n",
    "        xref[k+1][1:2] .= (xref[k][1:2]) + dt*V1\n",
    "        xref[k+1][4:5] .= (xref[k][4:5]) + dt*V2\n",
    "    end\n",
    "\n",
    "    return SVector{6}.(xref)\n",
    "end"
   ]
  },
  {
   "cell_type": "code",
   "execution_count": 5,
   "metadata": {},
   "outputs": [
    {
     "name": "stdout",
     "output_type": "stream",
     "text": [
      "x0 = [2.5, 0.0, 1.5707963267948966, 0.0, 2.5, 0.0]\n"
     ]
    }
   ],
   "source": [
    "x0 = [   2.5; 0.0; pi/2; \n",
    "        0.0; 2.5; 0.0]\n",
    "\n",
    "xgoal = [   2.5; 5.0; pi/2; \n",
    "        5.0; 2.5; 0.0]   \n",
    "xref = nominal_trajectory(x0, xgoal, N, dt)\n",
    "\n",
    "umax = [0.3, 0.3, \n",
    "        0.3, 0.3]   \n",
    "\n",
    "umin = [-2.0, -2.0, \n",
    "        -2.0, -2.0]\n",
    "\n",
    "ugoal = [   0.0, 0.0, \n",
    "            0.0, 0.0]  \n",
    "            \n",
    "solver.P .= rand(NHor, Nu, Nx)*0.01\n",
    "solver.α = rand(NHor, Nu)*0.01\n",
    "\n",
    "game.x0 .= x0\n",
    "game.xref .= xref\n",
    "game.umin .= umin\n",
    "game.umax .= umax\n",
    "game.uf .= ugoal;"
   ]
  },
  {
   "cell_type": "code",
   "execution_count": 6,
   "metadata": {},
   "outputs": [
    {
     "data": {
      "text/plain": [
       "350-element Vector{SVector{6, Float64}}:\n",
       " [2.5, 0.0, 1.5707963267948966, 0.0, 2.5, 0.0]\n",
       " [2.5, 0.014326647564469917, 1.5707963267948966, 0.014326647564469917, 2.5, 0.0]\n",
       " [2.5, 0.028653295128939833, 1.5707963267948966, 0.028653295128939833, 2.5, 0.0]\n",
       " [2.5, 0.04297994269340975, 1.5707963267948966, 0.04297994269340975, 2.5, 0.0]\n",
       " [2.5, 0.05730659025787967, 1.5707963267948966, 0.05730659025787967, 2.5, 0.0]\n",
       " [2.5, 0.07163323782234958, 1.5707963267948966, 0.07163323782234958, 2.5, 0.0]\n",
       " [2.5, 0.08595988538681949, 1.5707963267948966, 0.08595988538681949, 2.5, 0.0]\n",
       " [2.5, 0.1002865329512894, 1.5707963267948966, 0.1002865329512894, 2.5, 0.0]\n",
       " [2.5, 0.11461318051575932, 1.5707963267948966, 0.11461318051575932, 2.5, 0.0]\n",
       " [2.5, 0.12893982808022925, 1.5707963267948966, 0.12893982808022925, 2.5, 0.0]\n",
       " [2.5, 0.14326647564469916, 1.5707963267948966, 0.14326647564469916, 2.5, 0.0]\n",
       " [2.5, 0.15759312320916907, 1.5707963267948966, 0.15759312320916907, 2.5, 0.0]\n",
       " [2.5, 0.17191977077363899, 1.5707963267948966, 0.17191977077363899, 2.5, 0.0]\n",
       " ⋮\n",
       " [2.5, 4.842406876790867, 1.5707963267948966, 4.842406876790867, 2.5, 0.0]\n",
       " [2.5, 4.856733524355337, 1.5707963267948966, 4.856733524355337, 2.5, 0.0]\n",
       " [2.5, 4.871060171919807, 1.5707963267948966, 4.871060171919807, 2.5, 0.0]\n",
       " [2.5, 4.885386819484277, 1.5707963267948966, 4.885386819484277, 2.5, 0.0]\n",
       " [2.5, 4.899713467048747, 1.5707963267948966, 4.899713467048747, 2.5, 0.0]\n",
       " [2.5, 4.9140401146132175, 1.5707963267948966, 4.9140401146132175, 2.5, 0.0]\n",
       " [2.5, 4.928366762177688, 1.5707963267948966, 4.928366762177688, 2.5, 0.0]\n",
       " [2.5, 4.942693409742158, 1.5707963267948966, 4.942693409742158, 2.5, 0.0]\n",
       " [2.5, 4.957020057306628, 1.5707963267948966, 4.957020057306628, 2.5, 0.0]\n",
       " [2.5, 4.971346704871098, 1.5707963267948966, 4.971346704871098, 2.5, 0.0]\n",
       " [2.5, 4.985673352435568, 1.5707963267948966, 4.985673352435568, 2.5, 0.0]\n",
       " [2.5, 5.000000000000038, 1.5707963267948966, 5.000000000000038, 2.5, 0.0]"
      ]
     },
     "execution_count": 6,
     "metadata": {},
     "output_type": "execute_result"
    }
   ],
   "source": [
    "xref"
   ]
  },
  {
   "cell_type": "code",
   "execution_count": 7,
   "metadata": {},
   "outputs": [],
   "source": [
    "mutable struct BotPosition\n",
    "    x::Float32\n",
    "end"
   ]
  },
  {
   "cell_type": "code",
   "execution_count": 8,
   "metadata": {},
   "outputs": [],
   "source": [
    "mutable struct BotsState\n",
    "    x::Vector{Float32}\n",
    "end"
   ]
  },
  {
   "cell_type": "code",
   "execution_count": 9,
   "metadata": {},
   "outputs": [
    {
     "data": {
      "text/plain": [
       "3-element Vector{Float32}:\n",
       " 0.0\n",
       " 2.5\n",
       " 0.0"
      ]
     },
     "execution_count": 9,
     "metadata": {},
     "output_type": "execute_result"
    }
   ],
   "source": [
    "botsSt0 = BotsState(x0[1:3])\n",
    "tbot0State = botsSt0.x\n",
    "botsSt1 = BotsState(x0[4:6])\n",
    "tbot1State = botsSt1.x"
   ]
  },
  {
   "cell_type": "code",
   "execution_count": 10,
   "metadata": {},
   "outputs": [],
   "source": [
    "function tb0_callback(msg)\n",
    "    #loginfo(\"$(RobotOS.get_caller_id()) I heard $(msg.data)\")\n",
    "    #println(msg.pose.pose.position)\n",
    "    xpos = msg.pose.pose.position.x\n",
    "    ypos = msg.pose.pose.position.y\n",
    "\n",
    "    qx = msg.pose.pose.orientation.x\n",
    "    qy = msg.pose.pose.orientation.y\n",
    "    qz = msg.pose.pose.orientation.z\n",
    "    qw = msg.pose.pose.orientation.w\n",
    "\n",
    "    theta = atan(2.0 * (qw * qz + qx * qy), 1.0 - 2.0 * (qy * qy + qz * qz))\n",
    "    tbot0State .= [xpos; ypos; theta]\n",
    "end\n",
    "\n",
    "function tb1_callback(msg)\n",
    "    xpos = msg.pose.pose.position.x\n",
    "    ypos = msg.pose.pose.position.y\n",
    "\n",
    "    qx = msg.pose.pose.orientation.x\n",
    "    qy = msg.pose.pose.orientation.y\n",
    "    qz = msg.pose.pose.orientation.z\n",
    "    qw = msg.pose.pose.orientation.w\n",
    "\n",
    "    theta = atan(2.0 * (qw * qz + qx * qy), 1.0 - 2.0 * (qy * qy + qz * qz))\n",
    "    tbot1State .= [xpos; ypos; theta]\n",
    "end\n",
    "\n",
    "function commands(pub0, pub1)\n",
    "    agent1 = Twist()\n",
    "    agent2 = Twist()\n",
    "\n",
    "    solver.P = rand(NHor, Nu, Nx)*0.01\n",
    "    solver.α = rand(NHor, Nu)*0.01\n",
    "    a = 0\n",
    "\n",
    "    X = zeros(N, Nx) \n",
    "    U = zeros(N-1, Nu)\n",
    "    X[1,:] = game.x0\n",
    "    println(\"Game Setup done!\")\n",
    "    rate = Rate(10) # 10 Hz\n",
    "    tstart = time_ns()\n",
    "    for k = 1:N-1-NHor\n",
    "        #println(tbot0State)\n",
    "        #println(\"type: \", typeof([botsSt0.x; botsSt1.x]))\n",
    "        #println(\"type: \", X[k])\n",
    "        X[k,:] .= [tbot0State; tbot1State]\n",
    "        #println(X[k,6])\n",
    "        xₜ, uₜ = iLQGameSolver.solveILQGame(game, solver, iLQGameSolver.diffDrive3D, iLQGameSolver.costPointMass, X[k,:], k, false)\n",
    "        X[k+1,:], U[k,:] = xₜ[2,:,:], uₜ[1,:,:]\n",
    "        # println(\"State: \", X[k,:])\n",
    "        # println(\"Input: \", U[k,:])\n",
    "        agent1.linear.x = U[k,1]#*cos(rad2deg(xₜ[i,3]))\n",
    "        agent1.linear.y = 0.0#uₜ[i,1]*sin(rad2deg(xₜ[i,3]))\n",
    "        agent1.angular.z = U[k,2]#uₜ[i,2]\n",
    "\n",
    "\n",
    "        agent2.linear.x = U[k,3]#*cos(rad2deg(xₜ[i,6]))\n",
    "        agent2.linear.y = 0.0#*sin(rad2deg(xₜ[i,6]))\n",
    "        agent2.angular.z = U[k,4]#uₜ[i,4]\n",
    "\n",
    "        publish(pub0, agent1)\n",
    "        publish(pub1, agent2)\n",
    "        rossleep(rate)\n",
    "    end\n",
    "    println(N)\n",
    "    for k = N-NHor:N-1\n",
    "        X[k,:] .= [tbot0State; tbot1State]\n",
    "        xₜ, uₜ = iLQGameSolver.solveILQGame(game, solver, iLQGameSolver.diffDrive3D, iLQGameSolver.costPointMass, X[k,:], k, true)\n",
    "        X[k+1,:], U[k,:] = xₜ[2,:,:], uₜ[1,:,:]\n",
    "\n",
    "        agent1.linear.x = U[k,1]#*cos(rad2deg(xₜ[i,3]))\n",
    "        agent1.linear.y = 0.0#uₜ[i,1]*sin(rad2deg(xₜ[i,3]))\n",
    "        agent1.angular.z = U[k,2]#uₜ[i,2]\n",
    "\n",
    "\n",
    "        agent2.linear.x = U[k,3]#*cos(rad2deg(xₜ[i,6]))\n",
    "        agent2.linear.y = 0.0#*sin(rad2deg(xₜ[i,6]))\n",
    "        agent2.angular.z = U[k,4]#uₜ[i,4]\n",
    "\n",
    "        publish(pub0, agent1)\n",
    "        publish(pub1, agent2)\n",
    "        rossleep(rate)\n",
    "        #println(k)\n",
    "    end\n",
    "    \n",
    "    tend = time_ns()\n",
    "    rossleep(rate)\n",
    "\n",
    "    for k = 1:10\n",
    "        X[k,:] .= [tbot0State; tbot1State]\n",
    "        #println(\"Done\")\n",
    "        agent1.linear.x = 0.0#*cos(rad2deg(xₜ[i,3]))\n",
    "        agent1.linear.y = 0.0#uₜ[i,1]*sin(rad2deg(xₜ[i,3]))\n",
    "        agent1.angular.z = 0.0#uₜ[i,2]\n",
    "\n",
    "\n",
    "        agent2.linear.x = 0.0#*cos(rad2deg(xₜ[i,6]))\n",
    "        agent2.linear.y = 0.0#*sin(rad2deg(xₜ[i,6]))\n",
    "        agent2.angular.z = 0.0#uₜ[i,4]\n",
    "\n",
    "        publish(pub0, agent1)\n",
    "        publish(pub1, agent2)\n",
    "        rossleep(rate)\n",
    "    end\n",
    "\n",
    "    rate = N / (tend - tstart) * 1e9\n",
    "    println(\"Controller ran at $rate Hz\")\n",
    "    \n",
    "    return X;\n",
    "    \n",
    "end\n",
    "\n",
    "function main()\n",
    "    init_node(\"turtlebot3_cmd\") # node name\n",
    "    pub0 = Publisher{Twist}(\"/tb3_0/cmd_vel\", queue_size=1) # topic name\n",
    "    pub1 = Publisher{Twist}(\"/tb3_1/cmd_vel\", queue_size=1) # topic name\n",
    "\n",
    "    tbb1_odom = Subscriber{Odometry}(\"/tb3_0/odom\", tb0_callback; queue_size=2)\n",
    "    tbb2_odom = Subscriber{Odometry}(\"/tb3_1/odom\", tb1_callback; queue_size=2)\n",
    "\n",
    "    X = commands(pub0, pub1)\n",
    "\n",
    "    #spin()\n",
    "    #return X\n",
    "end\n",
    "\n",
    "if !isinteractive()\n",
    "    main()\n",
    "end\n"
   ]
  },
  {
   "cell_type": "code",
   "execution_count": 11,
   "metadata": {},
   "outputs": [
    {
     "name": "stdout",
     "output_type": "stream",
     "text": [
      "Game Setup done!\n",
      "350\n",
      "Controller ran at 7.943618929798841 Hz\n"
     ]
    },
    {
     "data": {
      "text/plain": [
       "350×6 Matrix{Float64}:\n",
       " 2.49925  4.89483    1.56838  4.89534    2.51208  -0.00987797\n",
       " 2.49926  4.9021     1.56837  4.90258    2.51201  -0.0095473\n",
       " 2.49929  4.91232    1.56792  4.90903    2.51198  -0.00992538\n",
       " 2.49931  4.92285    1.5677   4.91389    2.51195  -0.0103308\n",
       " 2.49932  4.92952    1.56756  4.91714    2.51193  -0.0106421\n",
       " 2.49932  4.93247    1.56753  4.9188     2.51192  -0.0108228\n",
       " 2.49933  4.93266    1.56751  4.91909    2.51192  -0.0108679\n",
       " 2.49933  4.93272    1.5675   4.9191     2.51192  -0.0108782\n",
       " 2.49933  4.93277    1.56748  4.91913    2.51192  -0.0108916\n",
       " 2.49933  4.93283    1.56747  4.91915    2.51191  -0.0109054\n",
       " 2.49781  0.0689348  1.59458  0.0689153  2.50226   0.0249934\n",
       " 2.49738  0.0875331  1.59325  0.0875125  2.50271   0.023576\n",
       " 2.49698  0.10567    1.5915   0.105648   2.50313   0.0217407\n",
       " ⋮                                                 ⋮\n",
       " 2.49894  4.78504    1.56807  4.78549    2.51341  -0.0127588\n",
       " 2.49896  4.79606    1.56813  4.79651    2.51327  -0.0123105\n",
       " 2.49899  4.80668    1.56811  4.80708    2.51314  -0.0140062\n",
       " 2.49902  4.81704    1.56803  4.81725    2.51299  -0.0143256\n",
       " 2.49906  4.827      1.56773  4.82711    2.51286  -0.0136546\n",
       " 2.49909  4.83663    1.56717  4.83679    2.51273  -0.0129499\n",
       " 2.49912  4.84595    1.56726  4.84614    2.51262  -0.0123209\n",
       " 2.49915  4.85493    1.56754  4.85518    2.51251  -0.0117687\n",
       " 2.49918  4.86359    1.56784  4.86391    2.51241  -0.0112944\n",
       " 2.4992   4.87193    1.56808  4.87232    2.51232  -0.0108966\n",
       " 2.49922  4.87993    1.56825  4.88038    2.51223  -0.0105538\n",
       " 2.49923  4.88715    1.5684   4.88759    2.51216  -0.010051"
      ]
     },
     "execution_count": 11,
     "metadata": {},
     "output_type": "execute_result"
    }
   ],
   "source": [
    "main()"
   ]
  },
  {
   "cell_type": "code",
   "execution_count": null,
   "metadata": {},
   "outputs": [],
   "source": [
    "X"
   ]
  },
  {
   "cell_type": "code",
   "execution_count": null,
   "metadata": {},
   "outputs": [],
   "source": [
    "testX = BotsState(x0[1:3])\n",
    "tbotXtest = testX.x"
   ]
  },
  {
   "cell_type": "code",
   "execution_count": null,
   "metadata": {},
   "outputs": [],
   "source": [
    "tbotXtest"
   ]
  },
  {
   "cell_type": "code",
   "execution_count": null,
   "metadata": {},
   "outputs": [],
   "source": [
    "function changeX()\n",
    "    tbotXtest .= [1; 2; 3]\n",
    "end\n",
    "\n",
    "function showX()\n",
    "    println(tbotXtest)\n",
    "end"
   ]
  },
  {
   "cell_type": "code",
   "execution_count": null,
   "metadata": {},
   "outputs": [],
   "source": [
    "changeX()\n",
    "showX()"
   ]
  },
  {
   "cell_type": "code",
   "execution_count": null,
   "metadata": {},
   "outputs": [],
   "source": [
    "tbotXtest"
   ]
  },
  {
   "cell_type": "code",
   "execution_count": null,
   "metadata": {},
   "outputs": [],
   "source": []
  }
 ],
 "metadata": {
  "kernelspec": {
   "display_name": "Julia 1.6.7",
   "language": "julia",
   "name": "julia-1.6"
  },
  "language_info": {
   "file_extension": ".jl",
   "mimetype": "application/julia",
   "name": "julia",
   "version": "1.6.7"
  },
  "orig_nbformat": 4
 },
 "nbformat": 4,
 "nbformat_minor": 2
}
